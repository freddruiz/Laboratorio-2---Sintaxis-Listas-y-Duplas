{
 "cells": [
  {
   "cell_type": "markdown",
   "metadata": {},
   "source": [
    "<div style=\"text-align:  \"> Ciencias de Datos en Python </div> <div style=\"text-align: left\"> Autor: Freddy Ruíz </div>"
   ]
  },
  {
   "cell_type": "markdown",
   "metadata": {},
   "source": [
    "#### Hoja de Trabajo # 2 - Sintaxis, Listas y Tuplas\n",
    "***"
   ]
  },
  {
   "cell_type": "markdown",
   "metadata": {},
   "source": [
    "##### __Parte #1 - (Programacion y Sintaxis):__"
   ]
  },
  {
   "cell_type": "markdown",
   "metadata": {},
   "source": [
    "1. Haga un programa en Python que reciba de parametro un numero de segundos y que despliegue en pantalla, las horas, minutos y segundos que representan.\n"
   ]
  },
  {
   "cell_type": "code",
   "execution_count": 9,
   "metadata": {},
   "outputs": [
    {
     "name": "stdin",
     "output_type": "stream",
     "text": [
      "Ingresar el valor entero de segundos a convertir:  3601\n"
     ]
    },
    {
     "name": "stdout",
     "output_type": "stream",
     "text": [
      "Resultado de la conversion: 1 horas 0 minutos 1 segundos\n"
     ]
    },
    {
     "name": "stdin",
     "output_type": "stream",
     "text": [
      "¿Desea continuar? Ingrese cualquier número para salir o bien 1 para continuar. Letras no son válidas 1\n",
      "Ingresar el valor entero de segundos a convertir:  60\n"
     ]
    },
    {
     "name": "stdout",
     "output_type": "stream",
     "text": [
      "Resultado de la conversion: 0 horas 1 minutos 0 segundos\n"
     ]
    },
    {
     "name": "stdin",
     "output_type": "stream",
     "text": [
      "¿Desea continuar? Ingrese cualquier número para salir o bien 1 para continuar. Letras no son válidas 2\n"
     ]
    }
   ],
   "source": [
    "bandera = 1 #Inicializamos bandera para poder controlar nuestro ciclo while\n",
    "while (bandera == 1):\n",
    "    try: #Implementamos manejo de excepciones para el caso donde se ingrese valores que no sean números\n",
    "        tiempo = int(input(\"Ingresar el valor entero de segundos a convertir: \"))\n",
    "        \n",
    "        #Condición para extraer las horas ingresadas\n",
    "        if (tiempo >= 3600):\n",
    "            horas=int(tiempo/3600)\n",
    "            tiempo= tiempo-(horas*3600)\n",
    "            \n",
    "        else:\n",
    "            horas = 0\n",
    "        \n",
    "        #Condición para extraer los minutos restantes\n",
    "        if (tiempo >= 60):\n",
    "            minutos=int(tiempo/60)\n",
    "            tiempo= tiempo-(minutos*60)\n",
    "        else:\n",
    "            minutos = 0\n",
    "            \n",
    "        segundos = tiempo\n",
    "        \n",
    "        #Mostramos el resultado de la ejecución\n",
    "        print(\"Resultado de la conversion: \"+ str(horas)+ \" horas \" + str(minutos) + \" minutos \" + str(segundos) + \" segundos\")\n",
    "        #Preguntamos al usuario si desea continuar usando el programa\n",
    "        bandera = int(input(\"¿Desea continuar? Ingrese cualquier número para salir o bien 1 para continuar. Letras no son válidas\"))\n",
    "    \n",
    "    except: #En caso de error, solicita que se sigan las instrucciones\n",
    "        print(\"Por favor ingresar un valor/opcion correcta\")"
   ]
  },
  {
   "cell_type": "markdown",
   "metadata": {},
   "source": [
    "2. Haga una funcion en Python que dado un numero entre 1 y 20. Y un caracter cualquiera despliegue cuatro patrones triangulares"
   ]
  },
  {
   "cell_type": "code",
   "execution_count": 135,
   "metadata": {},
   "outputs": [
    {
     "name": "stdin",
     "output_type": "stream",
     "text": [
      "Ingresa un numero de 1 al 20:  5\n",
      "Ingrese el simbolo deseado:  $\n"
     ]
    },
    {
     "name": "stdout",
     "output_type": "stream",
     "text": [
      "$\n",
      "$$\n",
      "$$$\n",
      "$$$$\n",
      "$$$$$\n",
      "\n",
      "\n",
      "$$$$$\n",
      "$$$$\n",
      "$$$\n",
      "$$\n",
      "$\n",
      "\n",
      "\n",
      "     $\n",
      "    $$\n",
      "   $$$\n",
      "  $$$$\n",
      " $$$$$\n",
      "\n",
      "\n",
      "$$$$$\n",
      " $$$$\n",
      "  $$$\n",
      "   $$\n",
      "    $\n"
     ]
    },
    {
     "name": "stdin",
     "output_type": "stream",
     "text": [
      "¿Desea continuar? Ingrese cualquier número para salir o bien 1 para continuar. Letras no son válidas 0\n"
     ]
    }
   ],
   "source": [
    "#Definicion de funciones de patrones\n",
    "def trian_der(n,simbolo):\n",
    "    myList = []\n",
    "    for i in range(1,n+1):\n",
    "        myList.append(simbolo*i)\n",
    "    print(\"\\n\".join(myList))\n",
    " \n",
    "def trian_derinv(n,simbolo):\n",
    "    myList = []\n",
    "    for i in range(n,0,-1):\n",
    "        myList.append(simbolo*i)\n",
    "    print(\"\\n\".join(myList))\n",
    "   \n",
    "def trian_izq(n,simbolo):\n",
    "    myList = []\n",
    "    cont = n-(n-1)\n",
    "    for i in range(n,0,-1):\n",
    "        myList.append(\" \"*i+simbolo*cont)\n",
    "        cont=cont+1\n",
    "    print(\"\\n\".join(myList))\n",
    "    \n",
    "def trian_izqinv(n,simbolo):\n",
    "    myList = []\n",
    "    cont=0\n",
    "    for i in range(n,0,-1):\n",
    "        myList.append(\" \"*cont+simbolo*i)\n",
    "        cont=cont+1\n",
    "    print(\"\\n\".join(myList))\n",
    "\n",
    "bandera = 1 #Inicializamos bandera para poder controlar nuestro ciclo while\n",
    "while (bandera == 1):\n",
    "    try: #Implementamos manejo de excepciones para el caso donde se ingrese valores que no sean números o excedan el rango\n",
    "        numero = int(input(\"Ingresa un numero de 1 al 20: \"))\n",
    "        simbolo = str(input(\"Ingrese el simbolo deseado: \"))\n",
    "        if (numero< 1 or numero > 20):\n",
    "            raise Exception(\"Número ingresado está fuera del rango\")\n",
    "       \n",
    "        trian_der(numero,simbolo) #Triangulo derecho\n",
    "        print(\"\\n\")\n",
    "        trian_derinv(numero,simbolo) #Triangulo derecho invertido \n",
    "        print(\"\\n\")\n",
    "        trian_izq(numero,simbolo) #Triangulo Izquierdo\n",
    "        print(\"\\n\")\n",
    "        trian_izqinv(numero,simbolo) #Triangulo Izquierdo invertido  \n",
    "        \n",
    "        #Preguntamos al usuario si desea continuar usando el programa    \n",
    "        bandera = int(input(\"¿Desea continuar? Ingrese cualquier número para salir o bien 1 para continuar. Letras no son válidas\"))\n",
    "    except Exception as e: #Mostramos la razón del error\n",
    "        print(\"Por favor ingresar un valor/opcion correcta \"+ + str(e))"
   ]
  },
  {
   "cell_type": "markdown",
   "metadata": {},
   "source": [
    "3. Haga un programa en Python que la fecha de nacimiento de una persona (puede ingresar por separado cada valor, es decir pedir primero dia, luego mes y luego año), despliegue la edad de la persona en años, meses y dias.\n",
    " "
   ]
  },
  {
   "cell_type": "code",
   "execution_count": 49,
   "metadata": {},
   "outputs": [
    {
     "name": "stdin",
     "output_type": "stream",
     "text": [
      "Ingrese la fecha de nacimiento en el siguiente formato dia/mes/año o dia-mes-año 04-01-1996\n"
     ]
    },
    {
     "name": "stdout",
     "output_type": "stream",
     "text": [
      "La edad de la persona es: 25 Años 1 meses 20 dias\n"
     ]
    },
    {
     "name": "stdin",
     "output_type": "stream",
     "text": [
      "¿Desea continuar? Ingrese cualquier número para salir o bien 1 para continuar. Letras no son válidas k\n"
     ]
    },
    {
     "name": "stdout",
     "output_type": "stream",
     "text": [
      "Por favor ingresar un valor/opcion correctainvalid literal for int() with base 10: 'k'\n"
     ]
    },
    {
     "name": "stdin",
     "output_type": "stream",
     "text": [
      "Ingrese la fecha de nacimiento en el siguiente formato dia/mes/año o dia-mes-año 04-02-1996\n"
     ]
    },
    {
     "name": "stdout",
     "output_type": "stream",
     "text": [
      "La edad de la persona es: 25 Años 0 meses 19 dias\n"
     ]
    },
    {
     "name": "stdin",
     "output_type": "stream",
     "text": [
      "¿Desea continuar? Ingrese cualquier número para salir o bien 1 para continuar. Letras no son válidas 0\n"
     ]
    }
   ],
   "source": [
    "from datetime import datetime #Importamos la librerias a utilizar\n",
    "\n",
    "bandera = 1 #Inicializamos bandera para poder controlar nuestro ciclo while\n",
    "while (bandera == 1):\n",
    "    try:  #Implementamos manejo de excepciones para el caso donde se ingrese un formato de fecha incorrecto\n",
    "        fecha_nacimiento = str(input(\"Ingrese la fecha de nacimiento en el siguiente formato dia/mes/año o dia-mes-año\")).replace(\"-\",\"/\")\n",
    "\n",
    "        #Convertimos el string ingresado a fecha\n",
    "        fecha_ingresada = datetime.strptime(fecha_nacimiento, \"%d/%m/%Y\")\n",
    "        fecha_actual = datetime.now()\n",
    "        diferencia_fechas = datetime.now() - fecha_ingresada\n",
    "\n",
    "        edad_dias = int(diferencia_fechas.days)\n",
    "\n",
    "        #Calculamos el desglose de la edad de la persona\n",
    "        if (edad_dias >= 365):\n",
    "            edad = int(edad_dias/365)\n",
    "            edad_dias = edad_dias - (edad*365)\n",
    "        else:\n",
    "            edad = 0        \n",
    "        if (edad_dias >= 30):\n",
    "            meses= int(edad_dias/30)            \n",
    "            edad_dias = edad_dias-(meses*30)\n",
    "        else:\n",
    "            meses = 0\n",
    "        #Mostramos los resultados de la conversión\n",
    "        print(\"La edad de la persona es: \" + str(edad) + \" Años \" + str(meses) + \" meses \" + str(edad_dias) +\" dias\")    \n",
    "        #Preguntamos al usuario si desea continuar usando el programa    \n",
    "        bandera = int(input(\"¿Desea continuar? Ingrese cualquier número para salir o bien 1 para continuar. Letras no son válidas\"))\n",
    "    except Exception as e: #Mostramos la razón del error\n",
    "        print(\"Por favor ingresar un valor/opcion correcta \" + str(e))\n",
    "        "
   ]
  },
  {
   "cell_type": "markdown",
   "metadata": {},
   "source": [
    "##### __Parte #2 - (Estructuras de Datos):__"
   ]
  },
  {
   "cell_type": "markdown",
   "metadata": {},
   "source": [
    "1. Escriba una funcion en Python que dada una tupla de elementos (numeros o letras) esta se convierta a un string\n",
    "\n"
   ]
  },
  {
   "cell_type": "code",
   "execution_count": 53,
   "metadata": {},
   "outputs": [
    {
     "name": "stdout",
     "output_type": "stream",
     "text": [
      "102040570\n"
     ]
    }
   ],
   "source": [
    "#Inicializacion de la tupla\n",
    "inputTuple = (10, 20, 40, 5, 70)\n",
    "#Inicializamos una variable string vacia\n",
    "concatValue =\"\"\n",
    "\n",
    "#Iteramos para concatenar valores\n",
    "for value in inputTuple:\n",
    "    concatValue = concatValue+str(value)\n",
    "print(concatValue)"
   ]
  },
  {
   "cell_type": "markdown",
   "metadata": {},
   "source": [
    "2. Cree un programa en Python que dada una lista de tuplas, elimine las tuplas que estan vacias.\n"
   ]
  },
  {
   "cell_type": "code",
   "execution_count": 39,
   "metadata": {},
   "outputs": [
    {
     "data": {
      "text/plain": [
       "[('X',), ('a', 'b'), ('a', 'b', 'c'), 'd']"
      ]
     },
     "execution_count": 39,
     "metadata": {},
     "output_type": "execute_result"
    }
   ],
   "source": [
    "#Inicializacion de tupla\n",
    "inputList = [(),(),('X',), ('a', 'b'), ('a', 'b', 'c'), ('d')]\n",
    "#Aplicamos list comprehension para remover las tuplas vacias\n",
    "inputList = [values for values in inputList if len(values) >0]\n"
   ]
  },
  {
   "cell_type": "markdown",
   "metadata": {},
   "source": [
    "3. Cree una funcion en Python que dada una tupla de tuplas con numeros, produzca una tupla con el promedio de cada tupla individual.\n"
   ]
  },
  {
   "cell_type": "code",
   "execution_count": 50,
   "metadata": {},
   "outputs": [
    {
     "name": "stdout",
     "output_type": "stream",
     "text": [
      "(10.5, 44.0, 58.0)\n"
     ]
    }
   ],
   "source": [
    "#Inicializacion de tupla\n",
    "inputTuple = ((10, 10, 10, 12), (30, 45, 56, 45), (81, 80, 39, 32))\n",
    "#Inicializamos una lista vacia y una variable para hacer la sumatoria de valores\n",
    "newList = []\n",
    "sumValues =0\n",
    "\n",
    "#Iteramos los valores de la tupla para poder hacer los calculos correspondientes\n",
    "for values in inputTuple:\n",
    "    for indiv_value in values:\n",
    "        sumValues = sumValues+ indiv_value\n",
    "    average = sumValues/len(values)\n",
    "    newList.append(average)\n",
    "    sumValues=0\n",
    "#Creamos la nueva tupla y la desplegamos\n",
    "outputTuple = tuple(newList)\n",
    "print(outputTuple)"
   ]
  }
 ],
 "metadata": {
  "kernelspec": {
   "display_name": "Python 3",
   "language": "python",
   "name": "python3"
  },
  "language_info": {
   "codemirror_mode": {
    "name": "ipython",
    "version": 3
   },
   "file_extension": ".py",
   "mimetype": "text/x-python",
   "name": "python",
   "nbconvert_exporter": "python",
   "pygments_lexer": "ipython3",
   "version": "3.7.6"
  }
 },
 "nbformat": 4,
 "nbformat_minor": 4
}
